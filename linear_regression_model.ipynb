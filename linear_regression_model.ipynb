{
  "nbformat": 4,
  "nbformat_minor": 0,
  "metadata": {
    "colab": {
      "name": "linear_regression_model.ipynb",
      "provenance": [],
      "authorship_tag": "ABX9TyPK+acYaEB+Ti2dZyRTzR8L",
      "include_colab_link": true
    },
    "kernelspec": {
      "name": "python3",
      "display_name": "Python 3"
    },
    "language_info": {
      "name": "python"
    }
  },
  "cells": [
    {
      "cell_type": "markdown",
      "metadata": {
        "id": "view-in-github",
        "colab_type": "text"
      },
      "source": [
        "<a href=\"https://colab.research.google.com/github/ranshu1601/Linear_regression_model/blob/main/linear_regression_model.ipynb\" target=\"_parent\"><img src=\"https://colab.research.google.com/assets/colab-badge.svg\" alt=\"Open In Colab\"/></a>"
      ]
    },
    {
      "cell_type": "code",
      "metadata": {
        "id": "Wr5niP2fU-PY"
      },
      "source": [
        "from random import randint\n",
        "TRAIN_SET_LIMIT = 1000\n",
        "TRAIN_SET_COUNT = 100\n",
        "\n",
        "TRAIN_INPUT = list()\n",
        "TRAIN_OUTPUT = list()\n",
        "for i in range(TRAIN_SET_COUNT):\n",
        "    a = randint(0, TRAIN_SET_LIMIT)\n",
        "    b = randint(0, TRAIN_SET_LIMIT)\n",
        "    c = randint(0, TRAIN_SET_LIMIT)\n",
        "    op = a + (2*b) + (3*c)\n",
        "    TRAIN_INPUT.append([a, b, c])\n",
        "    TRAIN_OUTPUT.append(op)"
      ],
      "execution_count": 2,
      "outputs": []
    },
    {
      "cell_type": "code",
      "metadata": {
        "colab": {
          "base_uri": "https://localhost:8080/"
        },
        "id": "fNl6YptpVJZt",
        "outputId": "7ca65468-9278-40da-92f8-87f8ee4b1bf8"
      },
      "source": [
        "from sklearn.linear_model import LinearRegression\n",
        "\n",
        "predictor = LinearRegression(n_jobs=-1)\n",
        "predictor.fit(X=TRAIN_INPUT, y=TRAIN_OUTPUT)"
      ],
      "execution_count": 3,
      "outputs": [
        {
          "output_type": "execute_result",
          "data": {
            "text/plain": [
              "LinearRegression(copy_X=True, fit_intercept=True, n_jobs=-1, normalize=False)"
            ]
          },
          "metadata": {},
          "execution_count": 3
        }
      ]
    },
    {
      "cell_type": "code",
      "metadata": {
        "colab": {
          "base_uri": "https://localhost:8080/"
        },
        "id": "-tvLDpPSVN9Z",
        "outputId": "f31eee46-b126-4299-a212-f3a6505fe594"
      },
      "source": [
        "X_TEST = [[10, 20, 30]]\n",
        "outcome = predictor.predict(X=X_TEST)\n",
        "coefficients = predictor.coef_\n",
        "\n",
        "print('Outcome : {}\\nCoefficients : {}'.format(outcome, coefficients))"
      ],
      "execution_count": 4,
      "outputs": [
        {
          "output_type": "stream",
          "name": "stdout",
          "text": [
            "Outcome : [140.]\n",
            "Coefficients : [1. 2. 3.]\n"
          ]
        }
      ]
    }
  ]
}